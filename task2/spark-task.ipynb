{
 "cells": [
  {
   "cell_type": "code",
   "execution_count": 1,
   "metadata": {},
   "outputs": [],
   "source": [
    "from pyspark import SparkContext"
   ]
  },
  {
   "cell_type": "code",
   "execution_count": 2,
   "metadata": {},
   "outputs": [
    {
     "name": "stderr",
     "output_type": "stream",
     "text": [
      "Setting default log level to \"WARN\".\n",
      "To adjust logging level use sc.setLogLevel(newLevel). For SparkR, use setLogLevel(newLevel).\n",
      "25/05/18 21:23:55 WARN NativeCodeLoader: Unable to load native-hadoop library for your platform... using builtin-java classes where applicable\n",
      "25/05/18 21:23:56 WARN Utils: Service 'SparkUI' could not bind on port 4040. Attempting port 4041.\n"
     ]
    }
   ],
   "source": [
    "sc = SparkContext(\"local\", \"spark-task\")"
   ]
  },
  {
   "attachments": {},
   "cell_type": "markdown",
   "metadata": {},
   "source": [
    "## Task-1 (a)"
   ]
  },
  {
   "cell_type": "code",
   "execution_count": 3,
   "metadata": {},
   "outputs": [],
   "source": [
    "sparkList = list(range(0,40001))"
   ]
  },
  {
   "cell_type": "code",
   "execution_count": 4,
   "metadata": {},
   "outputs": [
    {
     "data": {
      "text/plain": [
       "int"
      ]
     },
     "execution_count": 4,
     "metadata": {},
     "output_type": "execute_result"
    }
   ],
   "source": [
    "type(sparkList[0])"
   ]
  },
  {
   "cell_type": "code",
   "execution_count": 5,
   "metadata": {},
   "outputs": [],
   "source": [
    "rdd = sc.parallelize(sparkList)"
   ]
  },
  {
   "cell_type": "code",
   "execution_count": 6,
   "metadata": {},
   "outputs": [],
   "source": [
    "odd_rdd = rdd.filter(lambda x: x%2 == 1)"
   ]
  },
  {
   "cell_type": "code",
   "execution_count": 7,
   "metadata": {},
   "outputs": [
    {
     "name": "stderr",
     "output_type": "stream",
     "text": [
      "                                                                                \r"
     ]
    },
    {
     "data": {
      "text/plain": [
       "[1, 3, 5, 7, 9, 11, 13]"
      ]
     },
     "execution_count": 7,
     "metadata": {},
     "output_type": "execute_result"
    }
   ],
   "source": [
    "odd_rdd.take(7)"
   ]
  },
  {
   "attachments": {},
   "cell_type": "markdown",
   "metadata": {},
   "source": [
    "## Task-1(b)"
   ]
  },
  {
   "cell_type": "code",
   "execution_count": 8,
   "metadata": {},
   "outputs": [],
   "source": [
    "import random"
   ]
  },
  {
   "cell_type": "code",
   "execution_count": 9,
   "metadata": {},
   "outputs": [],
   "source": [
    "random_list = [random.randint(1,100) for _ in range(10000)]"
   ]
  },
  {
   "cell_type": "code",
   "execution_count": 10,
   "metadata": {},
   "outputs": [],
   "source": [
    "random_rdd = sc.parallelize(random_list, 5)"
   ]
  },
  {
   "cell_type": "code",
   "execution_count": 11,
   "metadata": {},
   "outputs": [],
   "source": [
    "def bucket(num):\n",
    "\n",
    "    if 1<= num <= 20:\n",
    "        return \"1-20\"\n",
    "    elif 21<= num <= 40:\n",
    "        return \"21-40\"\n",
    "    elif 41<= num <= 60:\n",
    "        return \"41-60\"\n",
    "    elif 61<= num <= 80:\n",
    "        return \"61-80\"\n",
    "    elif 81<= num <= 100:\n",
    "        return \"81-100\"\n",
    "    else:\n",
    "        return \"OutOfRange\""
   ]
  },
  {
   "cell_type": "code",
   "execution_count": 12,
   "metadata": {},
   "outputs": [],
   "source": [
    "counts = (random_rdd.map(lambda x: (bucket(x),1)).reduceByKey(lambda a,b: a+b))"
   ]
  },
  {
   "cell_type": "code",
   "execution_count": 13,
   "metadata": {},
   "outputs": [
    {
     "name": "stderr",
     "output_type": "stream",
     "text": [
      "                                                                                \r"
     ]
    }
   ],
   "source": [
    "res = counts.collect()"
   ]
  },
  {
   "cell_type": "code",
   "execution_count": 14,
   "metadata": {},
   "outputs": [
    {
     "name": "stdout",
     "output_type": "stream",
     "text": [
      "(1-20, 1948)\n",
      "(21-40, 2037)\n",
      "(41-60, 1979)\n",
      "(61-80, 1977)\n",
      "(81-100, 2059)\n"
     ]
    }
   ],
   "source": [
    "for bucket_name, count in sorted(res):\n",
    "    print(f\"({bucket_name}, {count})\")"
   ]
  },
  {
   "attachments": {},
   "cell_type": "markdown",
   "metadata": {},
   "source": [
    "## Task-1 (c):"
   ]
  },
  {
   "attachments": {},
   "cell_type": "markdown",
   "metadata": {},
   "source": [
    "## Task-1(d)"
   ]
  },
  {
   "cell_type": "code",
   "execution_count": 23,
   "metadata": {},
   "outputs": [],
   "source": [
    "import re"
   ]
  },
  {
   "cell_type": "code",
   "execution_count": 15,
   "metadata": {},
   "outputs": [],
   "source": [
    "text_rdd = sc.textFile(\"Text-data.txt\")"
   ]
  },
  {
   "cell_type": "code",
   "execution_count": 24,
   "metadata": {},
   "outputs": [],
   "source": [
    "words_rdd = text_rdd.flatMap(lambda line: re.findall(r'\\b\\w+\\b', line.lower())) # Split each line into words --> no punctuation, lower case"
   ]
  },
  {
   "cell_type": "code",
   "execution_count": 25,
   "metadata": {},
   "outputs": [],
   "source": [
    "# I need word-pairs. Use map function\n",
    "\n",
    "words_pairs = words_rdd.map(lambda x: (x,1))"
   ]
  },
  {
   "cell_type": "code",
   "execution_count": 26,
   "metadata": {},
   "outputs": [],
   "source": [
    "# sum to same words. Use ReduceByKey()\n",
    "\n",
    "same_words = words_pairs.reduceByKey(lambda a,b: a+b)"
   ]
  },
  {
   "cell_type": "code",
   "execution_count": 28,
   "metadata": {},
   "outputs": [
    {
     "name": "stderr",
     "output_type": "stream",
     "text": [
      "                                                                                \r"
     ]
    }
   ],
   "source": [
    "# 25 most common words\n",
    "top_25 = same_words.takeOrdered(25, key=lambda x: -x[1]) \n",
    "# If we didn't delete the punctuation mark, this line would give an error."
   ]
  },
  {
   "cell_type": "code",
   "execution_count": 31,
   "metadata": {},
   "outputs": [
    {
     "name": "stdout",
     "output_type": "stream",
     "text": [
      "('is', 144276)\n",
      "('the', 78015)\n",
      "('a', 77125)\n",
      "('of', 70999)\n",
      "('to', 43196)\n",
      "('or', 35443)\n",
      "('in', 31537)\n",
      "('and', 27278)\n",
      "('an', 14550)\n",
      "('that', 13839)\n",
      "('with', 13356)\n",
      "('by', 11357)\n",
      "('for', 11048)\n",
      "('on', 7501)\n",
      "('as', 6783)\n",
      "('from', 6782)\n",
      "('who', 6003)\n",
      "('having', 5808)\n",
      "('he', 4824)\n",
      "('used', 4803)\n",
      "('was', 4359)\n",
      "('his', 3990)\n",
      "('one', 3808)\n",
      "('s', 3683)\n",
      "('at', 3630)\n"
     ]
    }
   ],
   "source": [
    "for word, count in top_25:\n",
    "    print((word, count))"
   ]
  },
  {
   "attachments": {},
   "cell_type": "markdown",
   "metadata": {},
   "source": [
    "## Task-1 (e)"
   ]
  },
  {
   "cell_type": "code",
   "execution_count": 32,
   "metadata": {},
   "outputs": [],
   "source": [
    "# set stopwords\n",
    "\n",
    "stop_words = {\n",
    "    \"a\", \"an\", \"the\", \"and\", \"or\", \"but\", \"if\", \"while\", \"because\", \"as\", \"until\", \"of\",\n",
    "    \"at\", \"by\", \"for\", \"with\", \"about\", \"against\", \"between\", \"into\", \"through\", \"during\",\n",
    "    \"before\", \"after\", \"above\", \"below\", \"to\", \"from\", \"up\", \"down\", \"in\", \"out\", \"on\", \"off\",\n",
    "    \"over\", \"under\", \"again\", \"further\", \"then\", \"once\", \"here\", \"there\", \"when\", \"where\",\n",
    "    \"why\", \"how\", \"all\", \"any\", \"both\", \"each\", \"few\", \"more\", \"most\", \"other\", \"some\",\n",
    "    \"such\", \"no\", \"nor\", \"not\", \"only\", \"own\", \"same\", \"so\", \"than\", \"too\", \"very\",\n",
    "    \"can\", \"will\", \"just\", \"don\", \"should\", \"now\", \"is\", \"am\", \"are\", \"was\", \"were\",\n",
    "    \"be\", \"been\", \"being\", \"have\", \"has\", \"had\", \"do\", \"does\", \"did\", \"would\", \"could\",\n",
    "    \"may\", \"might\", \"must\", \"shall\", \"also\", \"who\", \"whom\", \"this\", \"that\", \"these\", \"those\", \"you\"\n",
    "}\n",
    "\n",
    "filtered_words = words_rdd.filter(lambda x: x not in stop_words)"
   ]
  },
  {
   "cell_type": "code",
   "execution_count": 33,
   "metadata": {},
   "outputs": [],
   "source": [
    "meaningful_words_count = filtered_words.map(lambda x: (x,1)).reduceByKey(lambda a,b: a+b)"
   ]
  },
  {
   "cell_type": "code",
   "execution_count": 34,
   "metadata": {},
   "outputs": [
    {
     "name": "stderr",
     "output_type": "stream",
     "text": [
      "                                                                                \r"
     ]
    }
   ],
   "source": [
    "top_25_meaningful_words = meaningful_words_count.takeOrdered(25, key=lambda x: -x[1])"
   ]
  },
  {
   "cell_type": "code",
   "execution_count": 35,
   "metadata": {},
   "outputs": [
    {
     "name": "stdout",
     "output_type": "stream",
     "text": [
      "('having', 5808)\n",
      "('he', 4824)\n",
      "('used', 4803)\n",
      "('his', 3990)\n",
      "('one', 3808)\n",
      "('s', 3683)\n",
      "('small', 3145)\n",
      "('genus', 3121)\n",
      "('which', 2835)\n",
      "('united', 2789)\n",
      "('states', 2749)\n",
      "('relating', 2666)\n",
      "('it', 2613)\n",
      "('something', 2335)\n",
      "('large', 2223)\n",
      "('person', 2214)\n",
      "('she', 2189)\n",
      "('manner', 1968)\n",
      "('her', 1966)\n",
      "('two', 1866)\n",
      "('made', 1843)\n",
      "('act', 1822)\n",
      "('someone', 1812)\n",
      "('its', 1731)\n",
      "('north', 1666)\n"
     ]
    }
   ],
   "source": [
    "for meaningful_word, count in top_25_meaningful_words:\n",
    "    print((meaningful_word, count))"
   ]
  },
  {
   "cell_type": "code",
   "execution_count": 36,
   "metadata": {},
   "outputs": [],
   "source": [
    "sc.stop()"
   ]
  },
  {
   "cell_type": "code",
   "execution_count": null,
   "metadata": {},
   "outputs": [],
   "source": []
  }
 ],
 "metadata": {
  "kernelspec": {
   "display_name": "base",
   "language": "python",
   "name": "python3"
  },
  "language_info": {
   "codemirror_mode": {
    "name": "ipython",
    "version": 3
   },
   "file_extension": ".py",
   "mimetype": "text/x-python",
   "name": "python",
   "nbconvert_exporter": "python",
   "pygments_lexer": "ipython3",
   "version": "3.10.9"
  },
  "orig_nbformat": 4
 },
 "nbformat": 4,
 "nbformat_minor": 2
}

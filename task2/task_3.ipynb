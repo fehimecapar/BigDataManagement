{
 "cells": [
  {
   "cell_type": "code",
   "execution_count": 3,
   "metadata": {},
   "outputs": [
    {
     "name": "stdout",
     "output_type": "stream",
     "text": [
      "Collecting py2neo\n",
      "  Downloading py2neo-2021.2.4-py2.py3-none-any.whl (177 kB)\n",
      "\u001b[2K     \u001b[90m━━━━━━━━━━━━━━━━━━━━━━━━━━━━━━━━━━━━━━━\u001b[0m \u001b[32m177.2/177.2 kB\u001b[0m \u001b[31m2.7 MB/s\u001b[0m eta \u001b[36m0:00:00\u001b[0ma \u001b[36m0:00:01\u001b[0m\n",
      "\u001b[?25hCollecting pansi>=2020.7.3\n",
      "  Downloading pansi-2024.11.0-py2.py3-none-any.whl (26 kB)\n",
      "Requirement already satisfied: packaging in /Users/macbook/anaconda3/lib/python3.10/site-packages (from py2neo) (22.0)\n",
      "Requirement already satisfied: urllib3 in /Users/macbook/anaconda3/lib/python3.10/site-packages (from py2neo) (1.26.14)\n",
      "Collecting monotonic\n",
      "  Downloading monotonic-1.6-py2.py3-none-any.whl (8.2 kB)\n",
      "Requirement already satisfied: certifi in /Users/macbook/anaconda3/lib/python3.10/site-packages (from py2neo) (2022.12.7)\n",
      "Requirement already satisfied: six>=1.15.0 in /Users/macbook/anaconda3/lib/python3.10/site-packages (from py2neo) (1.16.0)\n",
      "Collecting interchange~=2021.0.4\n",
      "  Downloading interchange-2021.0.4-py2.py3-none-any.whl (28 kB)\n",
      "Requirement already satisfied: pygments>=2.0.0 in /Users/macbook/anaconda3/lib/python3.10/site-packages (from py2neo) (2.15.1)\n",
      "Requirement already satisfied: pytz in /Users/macbook/anaconda3/lib/python3.10/site-packages (from interchange~=2021.0.4->py2neo) (2022.7)\n",
      "Requirement already satisfied: pillow in /Users/macbook/anaconda3/lib/python3.10/site-packages (from pansi>=2020.7.3->py2neo) (9.5.0)\n",
      "Installing collected packages: monotonic, pansi, interchange, py2neo\n",
      "Successfully installed interchange-2021.0.4 monotonic-1.6 pansi-2024.11.0 py2neo-2021.2.4\n"
     ]
    }
   ],
   "source": [
    "!pip install py2neo"
   ]
  },
  {
   "cell_type": "code",
   "execution_count": 4,
   "metadata": {},
   "outputs": [],
   "source": [
    "from neo4j import GraphDatabase"
   ]
  },
  {
   "cell_type": "code",
   "execution_count": 6,
   "metadata": {},
   "outputs": [],
   "source": [
    "# Neo4j connection parameters\n",
    "uri = \"bolt://localhost:7687\"\n",
    "user = \"neo4j\"\n",
    "password = \"12345678\"\n",
    "\n",
    "# Create driver\n",
    "driver = GraphDatabase.driver(uri, auth=(user, password))"
   ]
  },
  {
   "cell_type": "code",
   "execution_count": 18,
   "metadata": {},
   "outputs": [
    {
     "name": "stdout",
     "output_type": "stream",
     "text": [
      "User name: William\n"
     ]
    },
    {
     "name": "stderr",
     "output_type": "stream",
     "text": [
      "/var/folders/mc/wkczfldx7tsb21fbkv6dnnjw0000gn/T/ipykernel_6289/324096550.py:9: DeprecationWarning: read_transaction has been renamed to execute_read\n",
      "  session.read_transaction(get_any_user_name)\n"
     ]
    }
   ],
   "source": [
    "# Function to retrieve any User name\n",
    "def get_any_user_name(tx):\n",
    "    result = tx.run(\"MATCH (u:User) RETURN u.username LIMIT 1\")\n",
    "    for record in result:\n",
    "        print(\"User name:\", record[\"u.username\"])\n",
    "\n",
    "# Run query in a session\n",
    "with driver.session() as session:\n",
    "    session.read_transaction(get_any_user_name)"
   ]
  },
  {
   "cell_type": "code",
   "execution_count": 20,
   "metadata": {},
   "outputs": [],
   "source": [
    "# Function to create FOLLOWS relationship\n",
    "def create_follows_relationship(tx):\n",
    "    tx.run(\"\"\"\n",
    "        MATCH (a:User {username: 'James'}), (b:User {username: 'Thomas'})\n",
    "        MERGE (a)-[:FOLLOWS]->(b)\n",
    "    \"\"\")\n",
    "    print(\"FOLLOWS relationship created between James and Thomas.\")"
   ]
  },
  {
   "cell_type": "code",
   "execution_count": 12,
   "metadata": {},
   "outputs": [
    {
     "name": "stderr",
     "output_type": "stream",
     "text": [
      "/var/folders/mc/wkczfldx7tsb21fbkv6dnnjw0000gn/T/ipykernel_6289/1701395175.py:3: DeprecationWarning: write_transaction has been renamed to execute_write\n",
      "  session.write_transaction(create_follows_relationship)\n"
     ]
    },
    {
     "name": "stdout",
     "output_type": "stream",
     "text": [
      "FOLLOWS relationship created between James and Thomas.\n"
     ]
    }
   ],
   "source": [
    "# Run write transaction\n",
    "with driver.session() as session:\n",
    "    session.write_transaction(create_follows_relationship)"
   ]
  },
  {
   "cell_type": "code",
   "execution_count": 21,
   "metadata": {},
   "outputs": [
    {
     "name": "stderr",
     "output_type": "stream",
     "text": [
      "/var/folders/mc/wkczfldx7tsb21fbkv6dnnjw0000gn/T/ipykernel_6289/3411289895.py:32: DeprecationWarning: write_transaction has been renamed to execute_write\n",
      "  session.write_transaction(create_relationships)\n"
     ]
    },
    {
     "name": "stdout",
     "output_type": "stream",
     "text": [
      "Relationships created successfully!\n"
     ]
    }
   ],
   "source": [
    "def create_relationships(tx):\n",
    "    tx.run(\"\"\"\n",
    "    MATCH (pink:User {username: 'Pink'}),\n",
    "          (james:User {username: 'James'}),\n",
    "          (thomas:User {username: 'Thomas'}),\n",
    "          (you:User {username: 'You'}),\n",
    "          (casper:User {username: 'Casper'}),\n",
    "          (lester:User {username: 'Lester'}),\n",
    "          (elisha:User {username: 'Elisha'}),\n",
    "          (garfield:User {username: 'Garfield'}),\n",
    "          (hermann:User {username: 'Hermann'}),\n",
    "          (odie:User {username: 'Odie'}),\n",
    "          (jake:User {username: 'Jake'})\n",
    "    MERGE (pink)-[:FOLLOWS]->(james)\n",
    "    MERGE (pink)-[:FOLLOWS]->(thomas)\n",
    "    MERGE (pink)-[:FOLLOWS]->(you)\n",
    "    MERGE (you)-[:FOLLOWS]->(casper)\n",
    "    MERGE (you)-[:FOLLOWS]->(lester)\n",
    "    MERGE (james)-[:FOLLOWS]->(thomas)\n",
    "    MERGE (thomas)-[:FOLLOWS]->(hermann)\n",
    "    MERGE (thomas)-[:FOLLOWS]->(jake)\n",
    "    MERGE (thomas)-[:FOLLOWS]->(garfield)\n",
    "    MERGE (lester)-[:FOLLOWS]->(elisha)\n",
    "    MERGE (lester)-[:FOLLOWS]->(garfield)\n",
    "    MERGE (elisha)-[:FOLLOWS]->(jake)\n",
    "    MERGE (elisha)-[:FOLLOWS]->(odie)\n",
    "    MERGE (garfield)-[:FOLLOWS]->(hermann)\n",
    "    MERGE (hermann)-[:FOLLOWS]->(odie)\n",
    "    \"\"\")\n",
    "\n",
    "with driver.session() as session:\n",
    "    session.write_transaction(create_relationships)\n",
    "\n",
    "print(\"Relationships created successfully!\")\n"
   ]
  },
  {
   "cell_type": "code",
   "execution_count": 23,
   "metadata": {},
   "outputs": [],
   "source": [
    "import re"
   ]
  },
  {
   "cell_type": "code",
   "execution_count": 24,
   "metadata": {},
   "outputs": [
    {
     "name": "stdout",
     "output_type": "stream",
     "text": [
      "Full Names: ['Keanu Reeves', 'Carrie-Anne Moss', 'Laurence Fishburne', 'Hugo Weaving', 'Andy Wachowski', 'Lana Wachowski', 'Joel Silver', 'Emil Eifrem', 'Charlize Theron', 'Al Pacino', 'Taylor Hackford', 'Tom Cruise', 'Jack Nicholson', 'Demi Moore', 'Kevin Bacon', 'Kiefer Sutherland', 'Noah Wyle', 'Cuba Gooding Jr.', 'Kevin Pollak', 'J.T. Walsh', 'James Marshall', 'Christopher Guest', 'Rob Reiner', 'Aaron Sorkin', 'Kelly McGillis', 'Val Kilmer', 'Anthony Edwards', 'Tom Skerritt', 'Meg Ryan', 'Tony Scott', 'Jim Cash', 'Renee Zellweger', 'Kelly Preston', \"Jerry O'Connell\", 'Jay Mohr', 'Bonnie Hunt', 'Regina King', 'Jonathan Lipnicki', 'Cameron Crowe', 'River Phoenix', 'Corey Feldman', 'Wil Wheaton', 'John Cusack', 'Marshall Bell', 'Helen Hunt', 'Greg Kinnear', 'James L. Brooks', 'Annabella Sciorra', 'Max von Sydow', 'Werner Herzog', 'Robin Williams', 'Vincent Ward', 'Ethan Hawke', 'Rick Yune', 'James Cromwell', 'Scott Hicks', 'Parker Posey', 'Dave Chappelle', 'Steve Zahn', 'Tom Hanks', 'Nora Ephron', 'Rita Wilson', 'Bill Pullman', 'Victor Garber', \"Rosie O'Donnell\", 'John Patrick Stanley', 'Nathan Lane', 'Billy Crystal', 'Carrie Fisher', 'Bruno Kirby', 'Liv Tyler', 'Brooke Langton', 'Gene Hackman', 'Orlando Jones', 'Howard Deutch', 'Christian Bale', 'Zach Grenier', 'Mike Nichols', 'Richard Harris', 'Clint Eastwood', 'Takeshi Kitano', 'Dina Meyer', 'Ice-T', 'Robert Longo', 'Halle Berry', 'Jim Broadbent', 'Tom Tykwer', 'Ian McKellen', 'Audrey Tautou', 'Paul Bettany', 'Ron Howard', 'Natalie Portman', 'Stephen Rea', 'John Hurt', 'Ben Miles', 'Emile Hirsch', 'John Goodman', 'Susan Sarandon', 'Matthew Fox', 'Christina Ricci']\n",
      "Lastnames: ['Reeves', 'Moss', 'Fishburne', 'Weaving', 'Wachowski', 'Wachowski', 'Silver', 'Eifrem', 'Theron', 'Pacino', 'Hackford', 'Cruise', 'Nicholson', 'Moore', 'Bacon', 'Sutherland', 'Wyle', 'Gooding Jr.', 'Pollak', 'Walsh', 'Marshall', 'Guest', 'Reiner', 'Sorkin', 'McGillis', 'Kilmer', 'Edwards', 'Skerritt', 'Ryan', 'Scott', 'Cash', 'Zellweger', 'Preston', \"O'Connell\", 'Mohr', 'Hunt', 'King', 'Lipnicki', 'Crowe', 'Phoenix', 'Feldman', 'Wheaton', 'Cusack', 'Bell', 'Hunt', 'Kinnear', 'L. Brooks', 'Sciorra', 'von Sydow', 'Herzog', 'Williams', 'Ward', 'Hawke', 'Yune', 'Cromwell', 'Hicks', 'Posey', 'Chappelle', 'Zahn', 'Hanks', 'Ephron', 'Wilson', 'Pullman', 'Garber', \"O'Donnell\", 'Patrick Stanley', 'Lane', 'Crystal', 'Fisher', 'Kirby', 'Tyler', 'Langton', 'Hackman', 'Jones', 'Deutch', 'Bale', 'Grenier', 'Nichols', 'Harris', 'Eastwood', 'Kitano', 'Meyer', 'Ice-T', 'Longo', 'Berry', 'Broadbent', 'Tykwer', 'McKellen', 'Tautou', 'Bettany', 'Howard', 'Portman', 'Rea', 'Hurt', 'Miles', 'Hirsch', 'Goodman', 'Sarandon', 'Fox', 'Ricci']\n"
     ]
    },
    {
     "name": "stderr",
     "output_type": "stream",
     "text": [
      "/var/folders/mc/wkczfldx7tsb21fbkv6dnnjw0000gn/T/ipykernel_6289/431194958.py:9: DeprecationWarning: read_transaction has been renamed to execute_read\n",
      "  actor_names = session.read_transaction(get_actor_names)\n"
     ]
    }
   ],
   "source": [
    "\n",
    "def get_actor_names(tx):\n",
    "    result = tx.run(\"\"\"\n",
    "        MATCH (a:Person)\n",
    "        RETURN a.name LIMIT 100\n",
    "    \"\"\")\n",
    "    return [record[\"a.name\"] for record in result]\n",
    "\n",
    "with driver.session() as session:\n",
    "    actor_names = session.read_transaction(get_actor_names)\n",
    "\n",
    "print(\"Full Names:\", actor_names)\n",
    "\n",
    "# Use regex to extract lastnames\n",
    "lastnames = []\n",
    "for name in actor_names:\n",
    "    # Assume format \"Firstname Lastname\" (separated by space)\n",
    "    match = re.match(r'^\\S+\\s+(.*)$', name)\n",
    "    if match:\n",
    "        lastnames.append(match.group(1))\n",
    "    else:\n",
    "        lastnames.append(name)  # fallback: if no space, keep as is\n",
    "\n",
    "print(\"Lastnames:\", lastnames)"
   ]
  },
  {
   "cell_type": "code",
   "execution_count": 25,
   "metadata": {},
   "outputs": [],
   "source": [
    "driver.close()"
   ]
  },
  {
   "cell_type": "code",
   "execution_count": null,
   "metadata": {},
   "outputs": [],
   "source": []
  }
 ],
 "metadata": {
  "kernelspec": {
   "display_name": "base",
   "language": "python",
   "name": "python3"
  },
  "language_info": {
   "codemirror_mode": {
    "name": "ipython",
    "version": 3
   },
   "file_extension": ".py",
   "mimetype": "text/x-python",
   "name": "python",
   "nbconvert_exporter": "python",
   "pygments_lexer": "ipython3",
   "version": "3.10.9"
  },
  "orig_nbformat": 4
 },
 "nbformat": 4,
 "nbformat_minor": 2
}

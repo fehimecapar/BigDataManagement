{
 "cells": [
  {
   "attachments": {},
   "cell_type": "markdown",
   "metadata": {},
   "source": [
    "# Task2-a\n",
    "\n",
    "*  Betweenness centrality measures whether a node acts as a bridge between other nodes in the system.\n",
    "\n",
    "*  In an educational database like Tutorixus, this could be a content or user that is frequently accessed by both teachers and students, for example.\n",
    "\n",
    "*  Unlike social networks, the emphasis here is on \"information flow\" and \"access paths\".\n",
    "\n",
    "*  In other words, if a content is frequently passed between users in the shortest paths, it has a high betweenness value."
   ]
  },
  {
   "attachments": {},
   "cell_type": "markdown",
   "metadata": {},
   "source": [
    "# Task2-b\n",
    "\n",
    "*  CALL --> Used to start a procedure in Neo4j.\n",
    "\n",
    "*  gds.betweenness.stream(...) --> Runs the betweenness algorithm of the GDS library in stream mode.\n",
    "\n",
    "*  graphName: String --> The name of the graph to be analyzed (a graph previously defined with gds.graph.project).\n",
    "\n",
    "*  configuration: Map --> Configuration parameters to be used when running the algorithm (e.g. is it directed, node type filters, etc.).\n",
    "\n",
    "*  YIELD nodeId, score --> Returns results for each node: nodeId (Neo4j internal ID), score (betweenness value).\n",
    "\n",
    "As a Result, calculates betweenness centrality values ​​for all nodes of the graph given graphName. Returns these values ​​one by one as a stream. In other words, it does not store them in memory, but outputs row by row instantly. In this way, filtering and sorting operations can be done instantly if desired."
   ]
  },
  {
   "attachments": {},
   "cell_type": "markdown",
   "metadata": {},
   "source": [
    "# Task2-c"
   ]
  },
  {
   "cell_type": "code",
   "execution_count": 1,
   "metadata": {},
   "outputs": [
    {
     "data": {
      "text/plain": [
       "\"\\nCALL gds.betweenness.stream('betweennessGraph')\\nYIELD nodeId, score\\nRETURN gds.util.asNode(nodeId).name AS name, score\\nORDER BY score DESC\\nLIMIT 10;\\n\\n\""
      ]
     },
     "execution_count": 1,
     "metadata": {},
     "output_type": "execute_result"
    }
   ],
   "source": [
    "# 1. Create Graph  (Projection) --> result was saved as task2-c-1.json\n",
    "\"\"\"\n",
    "\n",
    "CALL gds.graph.project(\n",
    "  'betweennessGraph',\n",
    "  ['Person', 'Movie'],\n",
    "  {\n",
    "    ACTED_IN: {\n",
    "      type: 'ACTED_IN',\n",
    "      orientation: 'UNDIRECTED'\n",
    "    }\n",
    "  }\n",
    ");\n",
    "\"\"\"\n",
    "\n",
    "# 2. Calculate Betweenness Centrality --> result was saved as task2-c-2.csv\n",
    "\n",
    "\"\"\"\n",
    "CALL gds.betweenness.stream('betweennessGraph')\n",
    "YIELD nodeId, score\n",
    "RETURN gds.util.asNode(nodeId).name AS name, score\n",
    "ORDER BY score DESC\n",
    "LIMIT 10;\n",
    "\n",
    "\"\"\""
   ]
  },
  {
   "attachments": {},
   "cell_type": "markdown",
   "metadata": {},
   "source": [
    "# Task2-d"
   ]
  },
  {
   "cell_type": "code",
   "execution_count": 2,
   "metadata": {},
   "outputs": [
    {
     "data": {
      "text/plain": [
       "\"\\nCALL gds.betweenness.stream('betweennessGraph')\\nYIELD nodeId, score\\nWITH gds.util.asNode(nodeId) AS node, score\\nWHERE node:Person\\nRETURN node.name AS Actor, score AS Betweenness\\nORDER BY Betweenness DESC\\n\\n\""
      ]
     },
     "execution_count": 2,
     "metadata": {},
     "output_type": "execute_result"
    }
   ],
   "source": [
    "\"\"\"\n",
    "CALL gds.betweenness.stream('betweennessGraph')\n",
    "YIELD nodeId, score\n",
    "WITH gds.util.asNode(nodeId) AS node, score\n",
    "WHERE node:Person\n",
    "RETURN node.name AS Actor, score AS Betweenness\n",
    "ORDER BY Betweenness DESC\n",
    "\n",
    "\"\"\""
   ]
  },
  {
   "attachments": {},
   "cell_type": "markdown",
   "metadata": {},
   "source": [
    "Betweenness centrality measures an actor’s bridging role within a network. If an actor is on the shortest path between many other actors, his betweenness value is high. This indicates how strategically positioned the actor is in terms of information flow, relationship building, or link control.\n",
    "\n",
    "In this Database Context:\n",
    "*  If an actor has worked in many different types of films or with many different groups, his betweenness value will be high.\n",
    "\n",
    "*  A high betweenness value actor is someone who connects different communities.\n",
    "\n",
    "*  Low betweenness value actors are usually confined to a specific group."
   ]
  },
  {
   "attachments": {},
   "cell_type": "markdown",
   "metadata": {},
   "source": [
    "# Task2-e"
   ]
  },
  {
   "cell_type": "code",
   "execution_count": 3,
   "metadata": {},
   "outputs": [
    {
     "data": {
      "text/plain": [
       "\"\\nCALL gds.closeness.stream('betweennessGraph')\\nYIELD nodeId, score\\nWITH gds.util.asNode(nodeId) AS node, score\\nWHERE node:Person\\nRETURN node.name AS User, score AS Closeness\\nORDER BY Closeness DESC\\nLIMIT 10;\\n\\n\""
      ]
     },
     "execution_count": 3,
     "metadata": {},
     "output_type": "execute_result"
    }
   ],
   "source": [
    "# Movie\n",
    "\n",
    "\"\"\"\n",
    "CALL gds.closeness.stream('betweennessGraph')\n",
    "YIELD nodeId, score\n",
    "WITH gds.util.asNode(nodeId) AS node, score\n",
    "WHERE node:Movie\n",
    "RETURN node.title AS Movie, score AS Closeness\n",
    "ORDER BY Closeness DESC\n",
    "LIMIT 10;\n",
    "\n",
    "\"\"\"\n",
    "\n",
    "# User\n",
    "\n",
    "\"\"\"\n",
    "CALL gds.closeness.stream('betweennessGraph')\n",
    "YIELD nodeId, score\n",
    "WITH gds.util.asNode(nodeId) AS node, score\n",
    "WHERE node:Person\n",
    "RETURN node.name AS User, score AS Closeness\n",
    "ORDER BY Closeness DESC\n",
    "LIMIT 10;\n",
    "\n",
    "\"\"\""
   ]
  },
  {
   "attachments": {},
   "cell_type": "markdown",
   "metadata": {},
   "source": [
    "Closeness centrality indicates how close a node (e.g. movie or user) is to other nodes. It is the inverse of the average shortest path length to others. That is, if the closeness value is high, that node can reach others quickly in the network.\n",
    "\n",
    "If we look at what this database does, we can express it as follows;\n",
    "\n",
    "* Betweenness: To find important actors or users, bridges that connect different movie groups.\n",
    "\n",
    "* Closeness: Users or movies that can communicate the fastest and have a wide range of access (popularity, accessibility indicator)."
   ]
  },
  {
   "cell_type": "markdown",
   "metadata": {},
   "source": []
  }
 ],
 "metadata": {
  "kernelspec": {
   "display_name": "base",
   "language": "python",
   "name": "python3"
  },
  "language_info": {
   "codemirror_mode": {
    "name": "ipython",
    "version": 3
   },
   "file_extension": ".py",
   "mimetype": "text/x-python",
   "name": "python",
   "nbconvert_exporter": "python",
   "pygments_lexer": "ipython3",
   "version": "3.10.9"
  },
  "orig_nbformat": 4
 },
 "nbformat": 4,
 "nbformat_minor": 2
}
